{
 "cells": [
  {
   "cell_type": "code",
   "execution_count": 35,
   "metadata": {},
   "outputs": [],
   "source": [
    "from flask import Flask, jsonify\n",
    "from sqlalchemy.ext.automap import automap_base\n",
    "from sqlalchemy.orm import Session\n",
    "from sqlalchemy import create_engine, MetaData, func, inspect\n",
    "import datetime as dt"
   ]
  },
  {
   "cell_type": "code",
   "execution_count": 36,
   "metadata": {},
   "outputs": [],
   "source": [
    "endpoint = \"db-1-replica.ckcezj6mfmmk.us-east-2.rds.amazonaws.com\"\n",
    "password = \"C0vid2021analysis\"\n",
    "username = \"uscovid\" \n",
    "db_name = \"us_covid_db\""
   ]
  },
  {
   "cell_type": "code",
   "execution_count": 37,
   "metadata": {},
   "outputs": [],
   "source": [
    "# Create the engine\n",
    "engine = create_engine(f'postgresql://uscovid:{password}@{endpoint}/us_covid_db')"
   ]
  },
  {
   "cell_type": "code",
   "execution_count": 38,
   "metadata": {},
   "outputs": [
    {
     "name": "stdout",
     "output_type": "stream",
     "text": [
      "state\n",
      "date\n",
      "population\n",
      "cases\n",
      "deaths\n",
      "total_distributed\n",
      "total_administered\n",
      "percent_vaccinated\n",
      "est_percent_infected_to_date\n",
      "est_percent_immune\n"
     ]
    }
   ],
   "source": [
    "# Set Up Inspector and Get column Names\n",
    "inspector = inspect(engine)\n",
    "columns = inspector.get_columns(\"master_table\")\n",
    "\n",
    "# loop through and print just the column names to work with\n",
    "for n in columns:\n",
    "    print(n['name'])"
   ]
  },
  {
   "cell_type": "code",
   "execution_count": 39,
   "metadata": {},
   "outputs": [
    {
     "data": {
      "text/plain": [
       "['master_table']"
      ]
     },
     "execution_count": 39,
     "metadata": {},
     "output_type": "execute_result"
    }
   ],
   "source": [
    "# Set up the Base\n",
    "Base = automap_base()\n",
    "\n",
    "Base.prepare(engine, reflect=True)\n",
    "\n",
    "# Show the keys (tables) we can work with\n",
    "Base.classes.keys()"
   ]
  },
  {
   "cell_type": "code",
   "execution_count": 40,
   "metadata": {},
   "outputs": [],
   "source": [
    "# Work with the master_table\n",
    "master = Base.classes.master_table"
   ]
  },
  {
   "cell_type": "code",
   "execution_count": 41,
   "metadata": {},
   "outputs": [],
   "source": [
    "master_session = Session(engine)"
   ]
  },
  {
   "cell_type": "code",
   "execution_count": 53,
   "metadata": {
    "scrolled": true
   },
   "outputs": [
    {
     "name": "stdout",
     "output_type": "stream",
     "text": [
      "2021-01-25 00:00:00\n",
      "2021-01-25 00:00:00\n",
      "2021-01-25 00:00:00\n",
      "2021-01-25 00:00:00\n",
      "2021-01-25 00:00:00\n",
      "2021-01-25 00:00:00\n",
      "2021-01-25 00:00:00\n",
      "2021-01-25 00:00:00\n",
      "2021-01-25 00:00:00\n",
      "2021-01-25 00:00:00\n",
      "2021-01-25 00:00:00\n",
      "2021-01-25 00:00:00\n",
      "2021-01-25 00:00:00\n",
      "2021-01-25 00:00:00\n",
      "2021-01-25 00:00:00\n",
      "2021-01-25 00:00:00\n",
      "2021-01-25 00:00:00\n",
      "2021-01-25 00:00:00\n",
      "2021-01-25 00:00:00\n",
      "2021-01-25 00:00:00\n",
      "2021-01-25 00:00:00\n",
      "2021-01-25 00:00:00\n",
      "2021-01-25 00:00:00\n",
      "2021-01-25 00:00:00\n",
      "2021-01-25 00:00:00\n",
      "2021-01-25 00:00:00\n",
      "2021-01-25 00:00:00\n",
      "2021-01-25 00:00:00\n",
      "2021-01-25 00:00:00\n",
      "2021-01-25 00:00:00\n",
      "2021-01-25 00:00:00\n",
      "2021-01-25 00:00:00\n",
      "2021-01-25 00:00:00\n",
      "2021-01-25 00:00:00\n",
      "2021-01-25 00:00:00\n",
      "2021-01-25 00:00:00\n",
      "2021-01-25 00:00:00\n",
      "2021-01-25 00:00:00\n",
      "2021-01-25 00:00:00\n",
      "2021-01-25 00:00:00\n",
      "2021-01-25 00:00:00\n",
      "2021-01-25 00:00:00\n",
      "2021-01-25 00:00:00\n",
      "2021-01-25 00:00:00\n",
      "2021-01-25 00:00:00\n",
      "2021-01-25 00:00:00\n",
      "2021-01-25 00:00:00\n",
      "2021-01-25 00:00:00\n",
      "2021-01-25 00:00:00\n",
      "2021-01-25 00:00:00\n",
      "2021-01-25 00:00:00\n"
     ]
    }
   ],
   "source": [
    "stateInfo_result = master_session.query(master.state, master.date, master.population, master.cases, master.deaths,\n",
    "                                       master.total_distributed, master.total_administered, master.percent_vaccinated,\n",
    "                                       master.est_percent_infected_to_date, master.est_percent_immune)\n",
    "for row in stateInfo_result: \n",
    "    print(row[1])"
   ]
  },
  {
   "cell_type": "code",
   "execution_count": 58,
   "metadata": {},
   "outputs": [],
   "source": [
    "state_info = []\n",
    "\n",
    "for row in stateInfo_result:\n",
    "    \n",
    "    state_dict = {}\n",
    "    state_dict[f'{row[0]}'] = {\n",
    "        \"date\": str(row[1]).split(\" \")[0],\n",
    "        \"population\": row[2],\n",
    "        \"cases\": row[3],\n",
    "        \"deaths\": row[4],\n",
    "        \"total_distributed\": row[5],\n",
    "        \"total_administered\": row[6],\n",
    "        \"percent_vaccinated\": row[7],\n",
    "        \"est_percent_infected_to_date\": row[8],\n",
    "        \"est_percent_immune\": row[9]\n",
    "    }\n",
    "    \n",
    "    state_info.append(state_dict)"
   ]
  },
  {
   "cell_type": "code",
   "execution_count": 61,
   "metadata": {},
   "outputs": [
    {
     "name": "stdout",
     "output_type": "stream",
     "text": [
      "[{'Alabama': {'date': '2021-01-25', 'population': 4903185, 'cases': 443009, 'deaths': 6662, 'total_distributed': 493125, 'total_administered': 165919, 'percent_vaccinated': 3.38, 'est_percent_infected_to_date': 9.05, 'est_percent_immune': 12.44}}, {'Alaska': {'date': '2021-01-25', 'population': 731545, 'cases': 53061, 'deaths': 250, 'total_distributed': 154325, 'total_administered': 71907, 'percent_vaccinated': 9.83, 'est_percent_infected_to_date': 7.26, 'est_percent_immune': 17.09}}, {'Arizona': {'date': '2021-01-25', 'population': 7278717, 'cases': 728231, 'deaths': 12239, 'total_distributed': 797550, 'total_administered': 303899, 'percent_vaccinated': 4.18, 'est_percent_infected_to_date': 10.02, 'est_percent_immune': 14.2}}, {'Arkansas': {'date': '2021-01-25', 'population': 3017804, 'cases': 284702, 'deaths': 4650, 'total_distributed': 361550, 'total_administered': 173312, 'percent_vaccinated': 5.74, 'est_percent_infected_to_date': 9.45, 'est_percent_immune': 15.2}}, {'California': {'date': '2021-01-25', 'population': 39512223, 'cases': 3212488, 'deaths': 37499, 'total_distributed': 4379500, 'total_administered': 1633875, 'percent_vaccinated': 4.14, 'est_percent_infected_to_date': 8.14, 'est_percent_immune': 12.28}}, {'Colorado': {'date': '2021-01-25', 'population': 5758736, 'cases': 389227, 'deaths': 5602, 'total_distributed': 657250, 'total_administered': 353194, 'percent_vaccinated': 6.13, 'est_percent_infected_to_date': 6.77, 'est_percent_immune': 12.9}}, {'Connecticut': {'date': '2021-01-25', 'population': 3565287, 'cases': 243632, 'deaths': 6911, 'total_distributed': 435075, 'total_administered': 264707, 'percent_vaccinated': 7.42, 'est_percent_infected_to_date': 6.85, 'est_percent_immune': 14.29}}, {'Delaware': {'date': '2021-01-25', 'population': 973764, 'cases': 75191, 'deaths': 1049, 'total_distributed': 106600, 'total_administered': 49369, 'percent_vaccinated': 5.07, 'est_percent_infected_to_date': 7.73, 'est_percent_immune': 12.81}}, {'District of Columbia': {'date': '2021-01-25', 'population': 705749, 'cases': 35505, 'deaths': 879, 'total_distributed': 75175, 'total_administered': 55108, 'percent_vaccinated': 7.81, 'est_percent_infected_to_date': 5.04, 'est_percent_immune': 12.86}}, {'Florida': {'date': '2021-01-25', 'population': 21477737, 'cases': 1658161, 'deaths': 25445, 'total_distributed': 2546050, 'total_administered': 1239975, 'percent_vaccinated': 5.77, 'est_percent_infected_to_date': 7.73, 'est_percent_immune': 13.51}}, {'Georgia': {'date': '2021-01-25', 'population': 10617423, 'cases': 847036, 'deaths': 12890, 'total_distributed': 1162275, 'total_administered': 453862, 'percent_vaccinated': 4.27, 'est_percent_infected_to_date': 7.99, 'est_percent_immune': 12.27}}, {'Hawaii': {'date': '2021-01-25', 'population': 1415872, 'cases': 25209, 'deaths': 339, 'total_distributed': 189675, 'total_administered': 79414, 'percent_vaccinated': 5.61, 'est_percent_infected_to_date': 1.78, 'est_percent_immune': 7.39}}, {'Idaho': {'date': '2021-01-25', 'population': 1787065, 'cases': 160182, 'deaths': 1687, 'total_distributed': 178175, 'total_administered': 73372, 'percent_vaccinated': 4.11, 'est_percent_infected_to_date': 8.97, 'est_percent_immune': 13.08}}, {'Illinois': {'date': '2021-01-25', 'population': 12671821, 'cases': 1107388, 'deaths': 20744, 'total_distributed': 1173325, 'total_administered': 570527, 'percent_vaccinated': 4.5, 'est_percent_infected_to_date': 8.75, 'est_percent_immune': 13.26}}, {'Indiana': {'date': '2021-01-25', 'population': 6732219, 'cases': 616310, 'deaths': 9728, 'total_distributed': 816025, 'total_administered': 387137, 'percent_vaccinated': 5.75, 'est_percent_infected_to_date': 9.17, 'est_percent_immune': 14.93}}, {'Iowa': {'date': '2021-01-25', 'population': 3155070, 'cases': 313907, 'deaths': 4488, 'total_distributed': 328600, 'total_administered': 158743, 'percent_vaccinated': 5.03, 'est_percent_infected_to_date': 9.96, 'est_percent_immune': 15.0}}, {'Kansas': {'date': '2021-01-25', 'population': 2913314, 'cases': 272220, 'deaths': 3622, 'total_distributed': 312000, 'total_administered': 130434, 'percent_vaccinated': 4.48, 'est_percent_infected_to_date': 9.36, 'est_percent_immune': 13.84}}, {'Kentucky': {'date': '2021-01-25', 'population': 4467673, 'cases': 351462, 'deaths': 3730, 'total_distributed': 450175, 'total_administered': 235143, 'percent_vaccinated': 5.26, 'est_percent_infected_to_date': 7.87, 'est_percent_immune': 13.14}}, {'Louisiana': {'date': '2021-01-25', 'population': 4648794, 'cases': 385942, 'deaths': 8590, 'total_distributed': 492800, 'total_administered': 279398, 'percent_vaccinated': 6.01, 'est_percent_infected_to_date': 8.32, 'est_percent_immune': 14.34}}, {'Maine': {'date': '2021-01-25', 'population': 1344212, 'cases': 37046, 'deaths': 547, 'total_distributed': 165175, 'total_administered': 80502, 'percent_vaccinated': 5.99, 'est_percent_infected_to_date': 2.76, 'est_percent_immune': 8.75}}, {'Maryland': {'date': '2021-01-25', 'population': 6045680, 'cases': 343353, 'deaths': 6900, 'total_distributed': 685325, 'total_administered': 271905, 'percent_vaccinated': 4.5, 'est_percent_infected_to_date': 5.69, 'est_percent_immune': 10.19}}, {'Massachusetts': {'date': '2021-01-25', 'population': 6892503, 'cases': 503688, 'deaths': 14178, 'total_distributed': 776400, 'total_administered': 353117, 'percent_vaccinated': 5.12, 'est_percent_infected_to_date': 7.32, 'est_percent_immune': 12.46}}, {'Michigan': {'date': '2021-01-25', 'population': 9986857, 'cases': 598449, 'deaths': 15208, 'total_distributed': 1059275, 'total_administered': 548844, 'percent_vaccinated': 5.5, 'est_percent_infected_to_date': 6.0, 'est_percent_immune': 11.51}}, {'Minnesota': {'date': '2021-01-25', 'population': 5639632, 'cases': 455851, 'deaths': 6166, 'total_distributed': 652350, 'total_administered': 259417, 'percent_vaccinated': 4.6, 'est_percent_infected_to_date': 8.09, 'est_percent_immune': 12.7}}, {'Mississippi': {'date': '2021-01-25', 'population': 2976149, 'cases': 265146, 'deaths': 5777, 'total_distributed': 334800, 'total_administered': 136691, 'percent_vaccinated': 4.59, 'est_percent_infected_to_date': 8.93, 'est_percent_immune': 13.53}}, {'Missouri': {'date': '2021-01-25', 'population': 6137428, 'cases': 483906, 'deaths': 6968, 'total_distributed': 621200, 'total_administered': 265382, 'percent_vaccinated': 4.32, 'est_percent_infected_to_date': 7.89, 'est_percent_immune': 12.22}}, {'Montana': {'date': '2021-01-25', 'population': 1068778, 'cases': 91905, 'deaths': 1152, 'total_distributed': 112125, 'total_administered': 60389, 'percent_vaccinated': 5.65, 'est_percent_infected_to_date': 8.61, 'est_percent_immune': 14.26}}, {'Nebraska': {'date': '2021-01-25', 'population': 1934408, 'cases': 187993, 'deaths': 1972, 'total_distributed': 238000, 'total_administered': 111841, 'percent_vaccinated': 5.78, 'est_percent_infected_to_date': 9.73, 'est_percent_immune': 15.52}}, {'Nevada': {'date': '2021-01-25', 'population': 3080156, 'cases': 272019, 'deaths': 4032, 'total_distributed': 278175, 'total_administered': 115991, 'percent_vaccinated': 3.77, 'est_percent_infected_to_date': 8.84, 'est_percent_immune': 12.61}}, {'New Hampshire': {'date': '2021-01-25', 'population': 1359711, 'cases': 62768, 'deaths': 990, 'total_distributed': 155150, 'total_administered': 80639, 'percent_vaccinated': 5.93, 'est_percent_infected_to_date': 4.62, 'est_percent_immune': 10.55}}, {'New Jersey': {'date': '2021-01-25', 'population': 8882190, 'cases': 666951, 'deaths': 20972, 'total_distributed': 923300, 'total_administered': 432220, 'percent_vaccinated': 4.87, 'est_percent_infected_to_date': 7.53, 'est_percent_immune': 12.4}}, {'New Mexico': {'date': '2021-01-25', 'population': 2096829, 'cases': 169696, 'deaths': 3159, 'total_distributed': 237725, 'total_administered': 152465, 'percent_vaccinated': 7.27, 'est_percent_infected_to_date': 8.11, 'est_percent_immune': 15.39}}, {'New York': {'date': '2021-01-25', 'population': 19453561, 'cases': 1347924, 'deaths': 42090, 'total_distributed': 2213975, 'total_administered': 1116441, 'percent_vaccinated': 5.74, 'est_percent_infected_to_date': 6.94, 'est_percent_immune': 12.7}}, {'North Carolina': {'date': '2021-01-25', 'population': 10488084, 'cases': 725176, 'deaths': 8777, 'total_distributed': 1157100, 'total_administered': 473282, 'percent_vaccinated': 4.51, 'est_percent_infected_to_date': 6.92, 'est_percent_immune': 11.44}}, {'North Dakota': {'date': '2021-01-25', 'population': 762062, 'cases': 96899, 'deaths': 1436, 'total_distributed': 82850, 'total_administered': 59245, 'percent_vaccinated': 7.77, 'est_percent_infected_to_date': 12.74, 'est_percent_immune': 20.53}}, {'Ohio': {'date': '2021-01-25', 'population': 11689100, 'cases': 868656, 'deaths': 10768, 'total_distributed': 1122300, 'total_administered': 487481, 'percent_vaccinated': 4.17, 'est_percent_infected_to_date': 7.44, 'est_percent_immune': 11.61}}, {'Oklahoma': {'date': '2021-01-25', 'population': 3956971, 'cases': 374853, 'deaths': 3293, 'total_distributed': 490500, 'total_administered': 267434, 'percent_vaccinated': 6.76, 'est_percent_infected_to_date': 9.48, 'est_percent_immune': 16.25}}, {'Oregon': {'date': '2021-01-25', 'population': 4217737, 'cases': 138587, 'deaths': 1892, 'total_distributed': 479325, 'total_administered': 216928, 'percent_vaccinated': 5.14, 'est_percent_infected_to_date': 3.29, 'est_percent_immune': 8.43}}, {'Pennsylvania': {'date': '2021-01-25', 'population': 12801989, 'cases': 813665, 'deaths': 20664, 'total_distributed': 1344375, 'total_administered': 605428, 'percent_vaccinated': 4.73, 'est_percent_infected_to_date': 6.37, 'est_percent_immune': 11.1}}, {'Rhode Island': {'date': '2021-01-25', 'population': 1059361, 'cases': 111754, 'deaths': 2110, 'total_distributed': 127450, 'total_administered': 59014, 'percent_vaccinated': 5.57, 'est_percent_infected_to_date': 10.57, 'est_percent_immune': 16.15}}, {'South Carolina': {'date': '2021-01-25', 'population': 5148714, 'cases': 421417, 'deaths': 6552, 'total_distributed': 443375, 'total_administered': 209631, 'percent_vaccinated': 4.07, 'est_percent_infected_to_date': 8.2, 'est_percent_immune': 12.27}}, {'South Dakota': {'date': '2021-01-25', 'population': 884659, 'cases': 107180, 'deaths': 1705, 'total_distributed': 99300, 'total_administered': 65377, 'percent_vaccinated': 7.39, 'est_percent_infected_to_date': 12.14, 'est_percent_immune': 19.54}}, {'Tennessee': {'date': '2021-01-25', 'population': 6829174, 'cases': 695935, 'deaths': 8776, 'total_distributed': 723825, 'total_administered': 375669, 'percent_vaccinated': 5.5, 'est_percent_infected_to_date': 10.2, 'est_percent_immune': 15.71}}, {'Texas': {'date': '2021-01-25', 'population': 28995881, 'cases': 2270391, 'deaths': 35236, 'total_distributed': 2754800, 'total_administered': 1544551, 'percent_vaccinated': 5.33, 'est_percent_infected_to_date': 7.84, 'est_percent_immune': 13.17}}, {'Utah': {'date': '2021-01-25', 'population': 3205958, 'cases': 337264, 'deaths': 1599, 'total_distributed': 337825, 'total_administered': 189578, 'percent_vaccinated': 5.91, 'est_percent_infected_to_date': 10.53, 'est_percent_immune': 16.44}}, {'Vermont': {'date': '2021-01-25', 'population': 623989, 'cases': 11165, 'deaths': 171, 'total_distributed': 78875, 'total_administered': 42835, 'percent_vaccinated': 6.86, 'est_percent_infected_to_date': 1.79, 'est_percent_immune': 8.66}}, {'Virginia': {'date': '2021-01-25', 'population': 8535519, 'cases': 478619, 'deaths': 6081, 'total_distributed': 992375, 'total_administered': 362092, 'percent_vaccinated': 4.24, 'est_percent_infected_to_date': 5.61, 'est_percent_immune': 9.86}}, {'Washington': {'date': '2021-01-25', 'population': 7614893, 'cases': 306489, 'deaths': 4221, 'total_distributed': 820875, 'total_administered': 373423, 'percent_vaccinated': 4.9, 'est_percent_infected_to_date': 4.03, 'est_percent_immune': 8.93}}, {'West Virginia': {'date': '2021-01-25', 'population': 1792147, 'cases': 115839, 'deaths': 1899, 'total_distributed': 231800, 'total_administered': 167548, 'percent_vaccinated': 9.35, 'est_percent_infected_to_date': 6.47, 'est_percent_immune': 15.83}}, {'Wisconsin': {'date': '2021-01-25', 'population': 5822434, 'cases': 582477, 'deaths': 6203, 'total_distributed': 577325, 'total_administered': 238758, 'percent_vaccinated': 4.1, 'est_percent_infected_to_date': 10.01, 'est_percent_immune': 14.12}}, {'Wyoming': {'date': '2021-01-25', 'population': 578759, 'cases': 51062, 'deaths': 571, 'total_distributed': 67450, 'total_administered': 29309, 'percent_vaccinated': 5.06, 'est_percent_infected_to_date': 8.83, 'est_percent_immune': 13.9}}]\n"
     ]
    }
   ],
   "source": [
    "print(state_info)"
   ]
  },
  {
   "cell_type": "code",
   "execution_count": null,
   "metadata": {},
   "outputs": [],
   "source": []
  }
 ],
 "metadata": {
  "kernelspec": {
   "display_name": "Python 3",
   "language": "python",
   "name": "python3"
  },
  "language_info": {
   "codemirror_mode": {
    "name": "ipython",
    "version": 3
   },
   "file_extension": ".py",
   "mimetype": "text/x-python",
   "name": "python",
   "nbconvert_exporter": "python",
   "pygments_lexer": "ipython3",
   "version": "3.7.8"
  }
 },
 "nbformat": 4,
 "nbformat_minor": 4
}
