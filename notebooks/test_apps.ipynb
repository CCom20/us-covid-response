{
 "cells": [
  {
   "cell_type": "code",
   "execution_count": 3,
   "metadata": {},
   "outputs": [],
   "source": [
    "from flask import Flask, jsonify\n",
    "from sqlalchemy.ext.automap import automap_base\n",
    "from sqlalchemy.orm import Session\n",
    "from sqlalchemy import create_engine, MetaData, func, inspect\n",
    "import datetime as dt\n",
    "from config import password, endpoint"
   ]
  },
  {
   "cell_type": "code",
   "execution_count": 4,
   "metadata": {},
   "outputs": [],
   "source": [
    "# Create the engine\n",
    "engine = create_engine(f'postgresql://uscovid:{password}@{endpoint}/us_covid_db')"
   ]
  },
  {
   "cell_type": "code",
   "execution_count": 5,
   "metadata": {},
   "outputs": [
    {
     "name": "stdout",
     "output_type": "stream",
     "text": [
      "state\n",
      "Abb\n",
      "date\n",
      "population\n",
      "Latitude\n",
      "Longitude\n",
      "cases\n",
      "deaths\n",
      "total_distributed\n",
      "total_administered\n",
      "percent_vaccinated\n",
      "est_percent_infected_to_date\n",
      "est_percent_immune\n"
     ]
    }
   ],
   "source": [
    "# Set Up Inspector and Get column Names\n",
    "inspector = inspect(engine)\n",
    "columns = inspector.get_columns(\"master_table\")\n",
    "\n",
    "# loop through and print just the column names to work with\n",
    "for n in columns:\n",
    "    print(n['name'])"
   ]
  },
  {
   "cell_type": "code",
   "execution_count": 6,
   "metadata": {},
   "outputs": [
    {
     "data": {
      "text/plain": [
       "['master_table']"
      ]
     },
     "execution_count": 6,
     "metadata": {},
     "output_type": "execute_result"
    }
   ],
   "source": [
    "# Set up the Base\n",
    "Base = automap_base()\n",
    "\n",
    "Base.prepare(engine, reflect=True)\n",
    "\n",
    "# Show the keys (tables) we can work with\n",
    "Base.classes.keys()"
   ]
  },
  {
   "cell_type": "code",
   "execution_count": 7,
   "metadata": {},
   "outputs": [],
   "source": [
    "# Work with the master_table\n",
    "master = Base.classes.master_table"
   ]
  },
  {
   "cell_type": "code",
   "execution_count": 8,
   "metadata": {},
   "outputs": [],
   "source": [
    "master_session = Session(engine)"
   ]
  },
  {
   "cell_type": "code",
   "execution_count": 9,
   "metadata": {
    "scrolled": true
   },
   "outputs": [
    {
     "name": "stdout",
     "output_type": "stream",
     "text": [
      "2021-02-08 00:00:00\n",
      "2021-02-08 00:00:00\n",
      "2021-02-08 00:00:00\n",
      "2021-02-08 00:00:00\n",
      "2021-02-08 00:00:00\n",
      "2021-02-08 00:00:00\n",
      "2021-02-08 00:00:00\n",
      "2021-02-08 00:00:00\n",
      "2021-02-08 00:00:00\n",
      "2021-02-08 00:00:00\n",
      "2021-02-08 00:00:00\n",
      "2021-02-08 00:00:00\n",
      "2021-02-08 00:00:00\n",
      "2021-02-08 00:00:00\n",
      "2021-02-08 00:00:00\n",
      "2021-02-08 00:00:00\n",
      "2021-02-08 00:00:00\n",
      "2021-02-08 00:00:00\n",
      "2021-02-08 00:00:00\n",
      "2021-02-08 00:00:00\n",
      "2021-02-08 00:00:00\n",
      "2021-02-08 00:00:00\n",
      "2021-02-08 00:00:00\n",
      "2021-02-08 00:00:00\n",
      "2021-02-08 00:00:00\n",
      "2021-02-08 00:00:00\n",
      "2021-02-08 00:00:00\n",
      "2021-02-08 00:00:00\n",
      "2021-02-08 00:00:00\n",
      "2021-02-08 00:00:00\n",
      "2021-02-08 00:00:00\n",
      "2021-02-08 00:00:00\n",
      "2021-02-08 00:00:00\n",
      "2021-02-08 00:00:00\n",
      "2021-02-08 00:00:00\n",
      "2021-02-08 00:00:00\n",
      "2021-02-08 00:00:00\n",
      "2021-02-08 00:00:00\n",
      "2021-02-08 00:00:00\n",
      "2021-02-08 00:00:00\n",
      "2021-02-08 00:00:00\n",
      "2021-02-08 00:00:00\n",
      "2021-02-08 00:00:00\n",
      "2021-02-08 00:00:00\n",
      "2021-02-08 00:00:00\n",
      "2021-02-08 00:00:00\n",
      "2021-02-08 00:00:00\n",
      "2021-02-08 00:00:00\n",
      "2021-02-08 00:00:00\n",
      "2021-02-08 00:00:00\n",
      "2021-02-08 00:00:00\n"
     ]
    }
   ],
   "source": [
    "stateInfo_result = master_session.query(master.state, master.date, master.population, master.cases, master.deaths,\n",
    "                                       master.total_distributed, master.total_administered, master.percent_vaccinated,\n",
    "                                       master.est_percent_infected_to_date, master.est_percent_immune)\n",
    "for row in stateInfo_result: \n",
    "    print(row[1])"
   ]
  },
  {
   "cell_type": "code",
   "execution_count": 10,
   "metadata": {},
   "outputs": [],
   "source": [
    "state_info = []\n",
    "\n",
    "for row in stateInfo_result:\n",
    "    \n",
    "    state_dict = {}\n",
    "    state_dict[f'{row[0]}'] = {\n",
    "        \"date\": str(row[1]).split(\" \")[0],\n",
    "        \"population\": row[2],\n",
    "        \"cases\": row[3],\n",
    "        \"deaths\": row[4],\n",
    "        \"total_distributed\": row[5],\n",
    "        \"total_administered\": row[6],\n",
    "        \"percent_vaccinated\": row[7],\n",
    "        \"est_percent_infected_to_date\": row[8],\n",
    "        \"est_percent_immune\": row[9]\n",
    "    }\n",
    "    \n",
    "    state_info.append(state_dict)"
   ]
  },
  {
   "cell_type": "code",
   "execution_count": 11,
   "metadata": {},
   "outputs": [
    {
     "name": "stdout",
     "output_type": "stream",
     "text": [
      "[{'Alabama': {'date': '2021-02-08', 'population': 4903185, 'cases': 473348, 'deaths': 8523, 'total_distributed': 823600, 'total_administered': 490969, 'percent_vaccinated': 10.01, 'est_percent_infected_to_date': 9.67, 'est_percent_immune': 19.7}}, {'Alaska': {'date': '2021-02-08', 'population': 731545, 'cases': 55374, 'deaths': 269, 'total_distributed': 256900, 'total_administered': 152874, 'percent_vaccinated': 20.9, 'est_percent_infected_to_date': 7.57, 'est_percent_immune': 28.48}}, {'Arizona': {'date': '2021-02-08', 'population': 7278717, 'cases': 783229, 'deaths': 14055, 'total_distributed': 1265950, 'total_administered': 863807, 'percent_vaccinated': 11.87, 'est_percent_infected_to_date': 10.78, 'est_percent_immune': 22.67}}, {'Arkansas': {'date': '2021-02-08', 'population': 3017804, 'cases': 307373, 'deaths': 5106, 'total_distributed': 580775, 'total_administered': 404127, 'percent_vaccinated': 13.39, 'est_percent_infected_to_date': 10.2, 'est_percent_immune': 23.62}}, {'California': {'date': '2021-02-08', 'population': 39512223, 'cases': 3430685, 'deaths': 44440, 'total_distributed': 7385225, 'total_administered': 4784478, 'percent_vaccinated': 12.11, 'est_percent_infected_to_date': 8.69, 'est_percent_immune': 20.81}}, {'Colorado': {'date': '2021-02-08', 'population': 5758736, 'cases': 408793, 'deaths': 5832, 'total_distributed': 1045000, 'total_administered': 757560, 'percent_vaccinated': 13.15, 'est_percent_infected_to_date': 7.11, 'est_percent_immune': 20.27}}, {'Connecticut': {'date': '2021-02-08', 'population': 3565287, 'cases': 263739, 'deaths': 7282, 'total_distributed': 800225, 'total_administered': 554322, 'percent_vaccinated': 15.55, 'est_percent_infected_to_date': 7.41, 'est_percent_immune': 22.99}}, {'Delaware': {'date': '2021-02-08', 'population': 973764, 'cases': 80931, 'deaths': 1208, 'total_distributed': 162525, 'total_administered': 127523, 'percent_vaccinated': 13.1, 'est_percent_infected_to_date': 8.32, 'est_percent_immune': 21.43}}, {'District of Columbia': {'date': '2021-02-08', 'population': 705749, 'cases': 38136, 'deaths': 956, 'total_distributed': 166950, 'total_administered': 108475, 'percent_vaccinated': 15.37, 'est_percent_infected_to_date': 5.41, 'est_percent_immune': 20.8}}, {'Florida': {'date': '2021-02-08', 'population': 21477737, 'cases': 1783712, 'deaths': 27814, 'total_distributed': 4217275, 'total_administered': 2731300, 'percent_vaccinated': 12.72, 'est_percent_infected_to_date': 8.32, 'est_percent_immune': 21.05}}, {'Georgia': {'date': '2021-02-08', 'population': 10617423, 'cases': 919778, 'deaths': 14679, 'total_distributed': 1840775, 'total_administered': 1179950, 'percent_vaccinated': 11.11, 'est_percent_infected_to_date': 8.67, 'est_percent_immune': 19.8}}, {'Hawaii': {'date': '2021-02-08', 'population': 1415872, 'cases': 26428, 'deaths': 415, 'total_distributed': 285950, 'total_administered': 194035, 'percent_vaccinated': 13.7, 'est_percent_infected_to_date': 1.87, 'est_percent_immune': 15.58}}, {'Idaho': {'date': '2021-02-08', 'population': 1787065, 'cases': 165826, 'deaths': 1778, 'total_distributed': 282075, 'total_administered': 198826, 'percent_vaccinated': 11.13, 'est_percent_infected_to_date': 9.29, 'est_percent_immune': 20.43}}, {'Illinois': {'date': '2021-02-08', 'population': 12671821, 'cases': 1150869, 'deaths': 21779, 'total_distributed': 2207200, 'total_administered': 1477780, 'percent_vaccinated': 11.66, 'est_percent_infected_to_date': 9.1, 'est_percent_immune': 20.78}}, {'Indiana': {'date': '2021-02-08', 'population': 6732219, 'cases': 643898, 'deaths': 11875, 'total_distributed': 1206125, 'total_administered': 761070, 'percent_vaccinated': 11.3, 'est_percent_infected_to_date': 9.58, 'est_percent_immune': 20.91}}, {'Iowa': {'date': '2021-02-08', 'population': 3155070, 'cases': 325219, 'deaths': 5110, 'total_distributed': 510550, 'total_administered': 351803, 'percent_vaccinated': 11.15, 'est_percent_infected_to_date': 10.32, 'est_percent_immune': 21.49}}, {'Kansas': {'date': '2021-02-08', 'population': 2913314, 'cases': 286026, 'deaths': 4197, 'total_distributed': 492250, 'total_administered': 305574, 'percent_vaccinated': 10.49, 'est_percent_infected_to_date': 9.83, 'est_percent_immune': 20.34}}, {'Kentucky': {'date': '2021-02-08', 'population': 4467673, 'cases': 382743, 'deaths': 4276, 'total_distributed': 828800, 'total_administered': 568658, 'percent_vaccinated': 12.73, 'est_percent_infected_to_date': 8.58, 'est_percent_immune': 21.32}}, {'Louisiana': {'date': '2021-02-08', 'population': 4648794, 'cases': 412989, 'deaths': 9142, 'total_distributed': 880150, 'total_administered': 619729, 'percent_vaccinated': 13.33, 'est_percent_infected_to_date': 8.9, 'est_percent_immune': 22.26}}, {'Maine': {'date': '2021-02-08', 'population': 1344212, 'cases': 41419, 'deaths': 636, 'total_distributed': 276600, 'total_administered': 187512, 'percent_vaccinated': 13.95, 'est_percent_infected_to_date': 3.08, 'est_percent_immune': 17.04}}, {'Maryland': {'date': '2021-02-08', 'population': 6045680, 'cases': 364732, 'deaths': 7372, 'total_distributed': 1098275, 'total_administered': 692965, 'percent_vaccinated': 11.46, 'est_percent_infected_to_date': 6.04, 'est_percent_immune': 17.52}}, {'Massachusetts': {'date': '2021-02-08', 'population': 6892503, 'cases': 545303, 'deaths': 15054, 'total_distributed': 1273975, 'total_administered': 832242, 'percent_vaccinated': 12.07, 'est_percent_infected_to_date': 7.93, 'est_percent_immune': 20.03}}, {'Michigan': {'date': '2021-02-08', 'population': 9986857, 'cases': 622490, 'deaths': 15854, 'total_distributed': 1846625, 'total_administered': 1309883, 'percent_vaccinated': 13.12, 'est_percent_infected_to_date': 6.24, 'est_percent_immune': 19.38}}, {'Minnesota': {'date': '2021-02-08', 'population': 5639632, 'cases': 468750, 'deaths': 6370, 'total_distributed': 975850, 'total_administered': 745290, 'percent_vaccinated': 13.22, 'est_percent_infected_to_date': 8.32, 'est_percent_immune': 21.55}}, {'Mississippi': {'date': '2021-02-08', 'population': 2976149, 'cases': 282313, 'deaths': 6270, 'total_distributed': 536625, 'total_administered': 329079, 'percent_vaccinated': 11.06, 'est_percent_infected_to_date': 9.51, 'est_percent_immune': 20.59}}, {'Missouri': {'date': '2021-02-08', 'population': 6137428, 'cases': 503553, 'deaths': 7578, 'total_distributed': 962500, 'total_administered': 646863, 'percent_vaccinated': 10.54, 'est_percent_infected_to_date': 8.21, 'est_percent_immune': 18.77}}, {'Montana': {'date': '2021-02-08', 'population': 1068778, 'cases': 95993, 'deaths': 1315, 'total_distributed': 164650, 'total_administered': 140124, 'percent_vaccinated': 13.11, 'est_percent_infected_to_date': 8.99, 'est_percent_immune': 22.12}}, {'Nebraska': {'date': '2021-02-08', 'population': 1934408, 'cases': 194046, 'deaths': 2077, 'total_distributed': 386775, 'total_administered': 235298, 'percent_vaccinated': 12.16, 'est_percent_infected_to_date': 10.04, 'est_percent_immune': 22.22}}, {'Nevada': {'date': '2021-02-08', 'population': 3080156, 'cases': 284692, 'deaths': 4524, 'total_distributed': 510200, 'total_administered': 351531, 'percent_vaccinated': 11.41, 'est_percent_infected_to_date': 9.26, 'est_percent_immune': 20.69}}, {'New Hampshire': {'date': '2021-02-08', 'population': 1359711, 'cases': 68499, 'deaths': 1106, 'total_distributed': 267450, 'total_administered': 168727, 'percent_vaccinated': 12.41, 'est_percent_infected_to_date': 5.04, 'est_percent_immune': 17.46}}, {'New Jersey': {'date': '2021-02-08', 'population': 8882190, 'cases': 724727, 'deaths': 22011, 'total_distributed': 1480825, 'total_administered': 1096789, 'percent_vaccinated': 12.35, 'est_percent_infected_to_date': 8.18, 'est_percent_immune': 20.56}}, {'New Mexico': {'date': '2021-02-08', 'population': 2096829, 'cases': 177867, 'deaths': 3414, 'total_distributed': 405500, 'total_administered': 346064, 'percent_vaccinated': 16.5, 'est_percent_infected_to_date': 8.5, 'est_percent_immune': 25.03}}, {'New York': {'date': '2021-02-08', 'population': 19453561, 'cases': 1489453, 'deaths': 44512, 'total_distributed': 3428000, 'total_administered': 2441693, 'percent_vaccinated': 12.55, 'est_percent_infected_to_date': 7.67, 'est_percent_immune': 20.25}}, {'North Carolina': {'date': '2021-02-08', 'population': 10488084, 'cases': 802820, 'deaths': 10030, 'total_distributed': 1722275, 'total_administered': 1287493, 'percent_vaccinated': 12.28, 'est_percent_infected_to_date': 7.66, 'est_percent_immune': 19.95}}, {'North Dakota': {'date': '2021-02-08', 'population': 762062, 'cases': 98210, 'deaths': 1454, 'total_distributed': 143400, 'total_administered': 129780, 'percent_vaccinated': 17.03, 'est_percent_infected_to_date': 12.91, 'est_percent_immune': 29.97}}, {'Ohio': {'date': '2021-02-08', 'population': 11689100, 'cases': 922143, 'deaths': 11695, 'total_distributed': 2070625, 'total_administered': 1373728, 'percent_vaccinated': 11.75, 'est_percent_infected_to_date': 7.9, 'est_percent_immune': 19.66}}, {'Oklahoma': {'date': '2021-02-08', 'population': 3956971, 'cases': 404994, 'deaths': 3817, 'total_distributed': 750525, 'total_administered': 588207, 'percent_vaccinated': 14.87, 'est_percent_infected_to_date': 10.24, 'est_percent_immune': 25.12}}, {'Oregon': {'date': '2021-02-08', 'population': 4217737, 'cases': 147419, 'deaths': 2043, 'total_distributed': 801125, 'total_administered': 572695, 'percent_vaccinated': 13.58, 'est_percent_infected_to_date': 3.5, 'est_percent_immune': 17.08}}, {'Pennsylvania': {'date': '2021-02-08', 'population': 12801989, 'cases': 878679, 'deaths': 22497, 'total_distributed': 2322875, 'total_administered': 1478180, 'percent_vaccinated': 11.55, 'est_percent_infected_to_date': 6.88, 'est_percent_immune': 18.44}}, {'Rhode Island': {'date': '2021-02-08', 'population': 1059361, 'cases': 119104, 'deaths': 2236, 'total_distributed': 207950, 'total_administered': 122079, 'percent_vaccinated': 11.52, 'est_percent_infected_to_date': 11.27, 'est_percent_immune': 22.81}}, {'South Carolina': {'date': '2021-02-08', 'population': 5148714, 'cases': 468403, 'deaths': 7690, 'total_distributed': 712325, 'total_administered': 585692, 'percent_vaccinated': 11.38, 'est_percent_infected_to_date': 9.11, 'est_percent_immune': 20.5}}, {'South Dakota': {'date': '2021-02-08', 'population': 884659, 'cases': 109283, 'deaths': 1809, 'total_distributed': 167975, 'total_administered': 133231, 'percent_vaccinated': 15.06, 'est_percent_infected_to_date': 12.38, 'est_percent_immune': 27.47}}, {'Tennessee': {'date': '2021-02-08', 'population': 6829174, 'cases': 731454, 'deaths': 10465, 'total_distributed': 1157375, 'total_administered': 812079, 'percent_vaccinated': 11.89, 'est_percent_infected_to_date': 10.73, 'est_percent_immune': 22.64}}, {'Texas': {'date': '2021-02-08', 'population': 28995881, 'cases': 2505725, 'deaths': 39655, 'total_distributed': 4594050, 'total_administered': 3436180, 'percent_vaccinated': 11.85, 'est_percent_infected_to_date': 8.65, 'est_percent_immune': 20.52}}, {'Utah': {'date': '2021-02-08', 'population': 3205958, 'cases': 355122, 'deaths': 1739, 'total_distributed': 531875, 'total_administered': 510267, 'percent_vaccinated': 15.92, 'est_percent_infected_to_date': 11.08, 'est_percent_immune': 27.01}}, {'Vermont': {'date': '2021-02-08', 'population': 623989, 'cases': 13046, 'deaths': 183, 'total_distributed': 129875, 'total_administered': 93037, 'percent_vaccinated': 14.91, 'est_percent_infected_to_date': 2.09, 'est_percent_immune': 17.01}}, {'Virginia': {'date': '2021-02-08', 'population': 8535519, 'cases': 530825, 'deaths': 6820, 'total_distributed': 1544150, 'total_administered': 1161590, 'percent_vaccinated': 13.61, 'est_percent_infected_to_date': 6.22, 'est_percent_immune': 19.84}}, {'Washington': {'date': '2021-02-08', 'population': 7614893, 'cases': 326625, 'deaths': 4540, 'total_distributed': 1364750, 'total_administered': 951204, 'percent_vaccinated': 12.49, 'est_percent_infected_to_date': 4.29, 'est_percent_immune': 16.79}}, {'West Virginia': {'date': '2021-02-08', 'population': 1792147, 'cases': 125106, 'deaths': 2131, 'total_distributed': 380400, 'total_administered': 327414, 'percent_vaccinated': 18.27, 'est_percent_infected_to_date': 6.99, 'est_percent_immune': 25.28}}, {'Wisconsin': {'date': '2021-02-08', 'population': 5822434, 'cases': 601391, 'deaths': 6619, 'total_distributed': 1045950, 'total_administered': 769314, 'percent_vaccinated': 13.21, 'est_percent_infected_to_date': 10.34, 'est_percent_immune': 23.57}}, {'Wyoming': {'date': '2021-02-08', 'population': 578759, 'cases': 52784, 'deaths': 624, 'total_distributed': 113175, 'total_administered': 76457, 'percent_vaccinated': 13.21, 'est_percent_infected_to_date': 9.13, 'est_percent_immune': 22.35}}]\n"
     ]
    }
   ],
   "source": [
    "print(state_info)"
   ]
  },
  {
   "cell_type": "code",
   "execution_count": null,
   "metadata": {},
   "outputs": [],
   "source": []
  }
 ],
 "metadata": {
  "kernelspec": {
   "display_name": "Python 3",
   "language": "python",
   "name": "python3"
  },
  "language_info": {
   "codemirror_mode": {
    "name": "ipython",
    "version": 3
   },
   "file_extension": ".py",
   "mimetype": "text/x-python",
   "name": "python",
   "nbconvert_exporter": "python",
   "pygments_lexer": "ipython3",
   "version": "3.7.8"
  }
 },
 "nbformat": 4,
 "nbformat_minor": 4
}
