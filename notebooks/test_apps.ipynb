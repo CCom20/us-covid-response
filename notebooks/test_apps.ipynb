{
 "cells": [
  {
   "cell_type": "code",
   "execution_count": null,
   "metadata": {},
   "outputs": [],
   "source": [
    "from flask import Flask, jsonify\n",
    "from sqlalchemy.ext.automap import automap_base\n",
    "from sqlalchemy.orm import Session\n",
    "from sqlalchemy import create_engine, MetaData, func\n",
    "import datetime as dt"
   ]
  },
  {
   "cell_type": "code",
   "execution_count": null,
   "metadata": {},
   "outputs": [],
   "source": [
    "endpoint = \"db-1-replica.ckcezj6mfmmk.us-east-2.rds.amazonaws.com\"\n",
    "password = \"C0vid2021analysis\"\n",
    "username = \"uscovid\" \n",
    "db_name = \"us_covid_db\""
   ]
  },
  {
   "cell_type": "code",
   "execution_count": null,
   "metadata": {},
   "outputs": [],
   "source": [
    "# Create the engine\n",
    "engine = create_engine(f'postgresql://uscovid:{password}@{endpoint}/us_covid_db')\n",
    "\n",
    "Base = automap_base()\n",
    "\n",
    "Base.prepare(engine, reflect=True)"
   ]
  },
  {
   "cell_type": "code",
   "execution_count": null,
   "metadata": {},
   "outputs": [],
   "source": [
    "Base.classes.keys()"
   ]
  },
  {
   "cell_type": "code",
   "execution_count": null,
   "metadata": {},
   "outputs": [],
   "source": [
    "state_info = Base.classes.master_table"
   ]
  },
  {
   "cell_type": "code",
   "execution_count": null,
   "metadata": {},
   "outputs": [],
   "source": [
    "stateInfo_session = Session(engine)\n",
    "\n",
    "stateInfo_result = stateInfo_session.query(state_info.state, state_info.population, state_info.total_distributed,\n",
    "                                          state_info.total_administered, state_info.distributed_per_100K, state_info.administered_per_100K,\n",
    "                                          state_info.people_with_1plus_doses, state_info.people_with_1plus_doses_per_100K,\n",
    "                                          state_info.people_with_2_doses, state_info.people_with_2_doses_per_100K, state_info.percent_vaccinated)"
   ]
  },
  {
   "cell_type": "code",
   "execution_count": null,
   "metadata": {},
   "outputs": [],
   "source": [
    "state_info = []\n",
    "\n",
    "for row in stateInfo_result:\n",
    "    \n",
    "    state_dict = {}\n",
    "    state_dict[\"state\"] = row[0]\n",
    "    state_dict[\"population\"] = row[1]\n",
    "    state_dict[\"total_distributed\"] = row[2]\n",
    "    state_dict[\"total_administered\"] = row[3]\n",
    "    state_dict[\"distributed_per_100K\"] = row[4]\n",
    "    state_dict[\"administered_per_100K\"] = row[5]\n",
    "    state_dict[\"people_with_1plus_doses\"] = row[6]\n",
    "    state_dict[\"people_with_1plus_doses_per_100K\"] = row[7]\n",
    "    state_dict[\"people_with_2_doses\"] = row[8]\n",
    "    state_dict[\"people_with_2_doses_per_100K\"] = row[9]\n",
    "    state_dict[\"%_vaccinated\"] = row[10]\n",
    "    state_info.append(state_dict)"
   ]
  },
  {
   "cell_type": "code",
   "execution_count": null,
   "metadata": {},
   "outputs": [],
   "source": [
    "print(state_info)"
   ]
  },
  {
   "cell_type": "code",
   "execution_count": null,
   "metadata": {},
   "outputs": [],
   "source": []
  },
  {
   "cell_type": "code",
   "execution_count": null,
   "metadata": {},
   "outputs": [],
   "source": []
  },
  {
   "cell_type": "code",
   "execution_count": null,
   "metadata": {},
   "outputs": [],
   "source": []
  },
  {
   "cell_type": "code",
   "execution_count": null,
   "metadata": {},
   "outputs": [],
   "source": []
  },
  {
   "cell_type": "code",
   "execution_count": null,
   "metadata": {},
   "outputs": [],
   "source": []
  }
 ],
 "metadata": {
  "kernelspec": {
   "display_name": "Python 3",
   "language": "python",
   "name": "python3"
  },
  "language_info": {
   "codemirror_mode": {
    "name": "ipython",
    "version": 3
   },
   "file_extension": ".py",
   "mimetype": "text/x-python",
   "name": "python",
   "nbconvert_exporter": "python",
   "pygments_lexer": "ipython3",
   "version": "3.7.8"
  }
 },
 "nbformat": 4,
 "nbformat_minor": 4
}
