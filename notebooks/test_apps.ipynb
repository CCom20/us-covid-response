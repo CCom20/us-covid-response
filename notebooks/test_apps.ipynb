{
 "cells": [
  {
   "cell_type": "code",
   "execution_count": 35,
   "metadata": {},
   "outputs": [],
   "source": [
    "from flask import Flask, jsonify\n",
    "from sqlalchemy.ext.automap import automap_base\n",
    "from sqlalchemy.orm import Session\n",
    "from sqlalchemy import create_engine, MetaData, func, inspect\n",
    "import datetime as dt"
   ]
  },
  {
   "cell_type": "code",
   "execution_count": 36,
   "metadata": {},
   "outputs": [],
   "source": [
    "endpoint = \"db-1-replica.ckcezj6mfmmk.us-east-2.rds.amazonaws.com\"\n",
    "password = \"C0vid2021analysis\"\n",
    "username = \"uscovid\" \n",
    "db_name = \"us_covid_db\""
   ]
  },
  {
   "cell_type": "code",
   "execution_count": 37,
   "metadata": {},
   "outputs": [],
   "source": [
    "# Create the engine\n",
    "engine = create_engine(f'postgresql://uscovid:{password}@{endpoint}/us_covid_db')"
   ]
  },
  {
   "cell_type": "code",
   "execution_count": 38,
   "metadata": {},
   "outputs": [
    {
     "name": "stdout",
     "output_type": "stream",
     "text": [
      "state\n",
      "date\n",
      "population\n",
      "cases\n",
      "deaths\n",
      "total_distributed\n",
      "total_administered\n",
      "percent_vaccinated\n",
      "est_percent_infected_to_date\n",
      "est_percent_immune\n"
     ]
    }
   ],
   "source": [
    "# Set Up Inspector and Get column Names\n",
    "inspector = inspect(engine)\n",
    "columns = inspector.get_columns(\"master_table\")\n",
    "\n",
    "# loop through and print just the column names to work with\n",
    "for n in columns:\n",
    "    print(n['name'])"
   ]
  },
  {
   "cell_type": "code",
   "execution_count": 39,
   "metadata": {},
   "outputs": [
    {
     "data": {
      "text/plain": [
       "['master_table']"
      ]
     },
     "execution_count": 39,
     "metadata": {},
     "output_type": "execute_result"
    }
   ],
   "source": [
    "# Set up the Base\n",
    "Base = automap_base()\n",
    "\n",
    "Base.prepare(engine, reflect=True)\n",
    "\n",
    "# Show the keys (tables) we can work with\n",
    "Base.classes.keys()"
   ]
  },
  {
   "cell_type": "code",
   "execution_count": 40,
   "metadata": {},
   "outputs": [],
   "source": [
    "# Work with the master_table\n",
    "master = Base.classes.master_table"
   ]
  },
  {
   "cell_type": "code",
   "execution_count": 41,
   "metadata": {},
   "outputs": [],
   "source": [
    "master_session = Session(engine)"
   ]
  },
  {
   "cell_type": "code",
   "execution_count": 53,
   "metadata": {
    "scrolled": true
   },
   "outputs": [
    {
     "name": "stdout",
     "output_type": "stream",
     "text": [
      "2021-01-25 00:00:00\n",
      "2021-01-25 00:00:00\n",
      "2021-01-25 00:00:00\n",
      "2021-01-25 00:00:00\n",
      "2021-01-25 00:00:00\n",
      "2021-01-25 00:00:00\n",
      "2021-01-25 00:00:00\n",
      "2021-01-25 00:00:00\n",
      "2021-01-25 00:00:00\n",
      "2021-01-25 00:00:00\n",
      "2021-01-25 00:00:00\n",
      "2021-01-25 00:00:00\n",
      "2021-01-25 00:00:00\n",
      "2021-01-25 00:00:00\n",
      "2021-01-25 00:00:00\n",
      "2021-01-25 00:00:00\n",
      "2021-01-25 00:00:00\n",
      "2021-01-25 00:00:00\n",
      "2021-01-25 00:00:00\n",
      "2021-01-25 00:00:00\n",
      "2021-01-25 00:00:00\n",
      "2021-01-25 00:00:00\n",
      "2021-01-25 00:00:00\n",
      "2021-01-25 00:00:00\n",
      "2021-01-25 00:00:00\n",
      "2021-01-25 00:00:00\n",
      "2021-01-25 00:00:00\n",
      "2021-01-25 00:00:00\n",
      "2021-01-25 00:00:00\n",
      "2021-01-25 00:00:00\n",
      "2021-01-25 00:00:00\n",
      "2021-01-25 00:00:00\n",
      "2021-01-25 00:00:00\n",
      "2021-01-25 00:00:00\n",
      "2021-01-25 00:00:00\n",
      "2021-01-25 00:00:00\n",
      "2021-01-25 00:00:00\n",
      "2021-01-25 00:00:00\n",
      "2021-01-25 00:00:00\n",
      "2021-01-25 00:00:00\n",
      "2021-01-25 00:00:00\n",
      "2021-01-25 00:00:00\n",
      "2021-01-25 00:00:00\n",
      "2021-01-25 00:00:00\n",
      "2021-01-25 00:00:00\n",
      "2021-01-25 00:00:00\n",
      "2021-01-25 00:00:00\n",
      "2021-01-25 00:00:00\n",
      "2021-01-25 00:00:00\n",
      "2021-01-25 00:00:00\n",
      "2021-01-25 00:00:00\n"
     ]
    }
   ],
   "source": [
    "stateInfo_result = master_session.query(master.state, master.date, master.population, master.cases, master.deaths,\n",
    "                                       master.total_distributed, master.total_administered, master.percent_vaccinated,\n",
    "                                       master.est_percent_infected_to_date, master.est_percent_immune)\n",
    "for row in stateInfo_result: \n",
    "    print(row[1])"
   ]
  },
  {
   "cell_type": "code",
   "execution_count": 58,
   "metadata": {},
   "outputs": [],
   "source": [
    "state_info = []\n",
    "\n",
    "for row in stateInfo_result:\n",
    "    \n",
    "    state_dict = {}\n",
    "    state_dict[f'{row[0]}'] = {\n",
    "        \"date\": str(row[1]).split(\" \")[0],\n",
    "        \"population\": row[2],\n",
    "        \"cases\": row[3],\n",
    "        \"deaths\": row[4],\n",
    "        \"total_distributed\": row[5],\n",
    "        \"total_administered\": row[6],\n",
    "        \"percent_vaccinated\": row[7],\n",
    "        \"est_percent_infected_to_date\": row[8],\n",
    "        \"est_percent_immune\": row[9]\n",
    "    }\n",
    "    \n",
    "    state_info.append(state_dict)"
   ]
  },
  {
   "cell_type": "code",
   "execution_count": 59,
   "metadata": {},
   "outputs": [
    {
     "name": "stdout",
     "output_type": "stream",
     "text": [
      "{'Alabama': {'date': '2021-01-25', 'population': 4903185, 'cases': 443009, 'deaths': 6662, 'total_distributed': 493125, 'total_administered': 165919, 'percent_vaccinated': 3.38, 'est_percent_infected_to_date': 9.05, 'est_percent_immune': 12.44}}\n"
     ]
    }
   ],
   "source": [
    "print(state_info[0])"
   ]
  }
 ],
 "metadata": {
  "kernelspec": {
   "display_name": "Python 3",
   "language": "python",
   "name": "python3"
  },
  "language_info": {
   "codemirror_mode": {
    "name": "ipython",
    "version": 3
   },
   "file_extension": ".py",
   "mimetype": "text/x-python",
   "name": "python",
   "nbconvert_exporter": "python",
   "pygments_lexer": "ipython3",
   "version": "3.7.8"
  }
 },
 "nbformat": 4,
 "nbformat_minor": 4
}
