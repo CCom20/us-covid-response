{
 "cells": [
  {
   "cell_type": "code",
   "execution_count": 1,
   "metadata": {},
   "outputs": [],
   "source": [
    "from flask import Flask, jsonify\n",
    "from sqlalchemy.ext.automap import automap_base\n",
    "from sqlalchemy.orm import Session\n",
    "from sqlalchemy import create_engine, MetaData, func\n",
    "import datetime as dt"
   ]
  },
  {
   "cell_type": "code",
   "execution_count": 2,
   "metadata": {},
   "outputs": [],
   "source": [
    "endpoint = \"db-1-replica.ckcezj6mfmmk.us-east-2.rds.amazonaws.com\"\n",
    "password = \"C0vid2021analysis\"\n",
    "username = \"uscovid\" \n",
    "db_name = \"us_covid_db\""
   ]
  },
  {
   "cell_type": "code",
   "execution_count": 3,
   "metadata": {},
   "outputs": [],
   "source": [
    "# Create the engine\n",
    "engine = create_engine(f'postgresql://uscovid:{password}@{endpoint}/us_covid_db')\n",
    "\n",
    "Base = automap_base()\n",
    "\n",
    "Base.prepare(engine, reflect=True)"
   ]
  },
  {
   "cell_type": "code",
   "execution_count": 4,
   "metadata": {},
   "outputs": [
    {
     "data": {
      "text/plain": [
       "['master_table']"
      ]
     },
     "execution_count": 4,
     "metadata": {},
     "output_type": "execute_result"
    }
   ],
   "source": [
    "Base.classes.keys()"
   ]
  },
  {
   "cell_type": "code",
   "execution_count": 5,
   "metadata": {},
   "outputs": [],
   "source": [
    "state_info = Base.classes.master_table"
   ]
  },
  {
   "cell_type": "code",
   "execution_count": 6,
   "metadata": {},
   "outputs": [],
   "source": [
    "stateInfo_session = Session(engine)\n",
    "\n",
    "stateInfo_result = stateInfo_session.query(state_info.state, state_info.population, state_info.total_distributed,\n",
    "                                          state_info.total_administered, state_info.distributed_per_100K, state_info.administered_per_100K,\n",
    "                                          state_info.people_with_1plus_doses, state_info.people_with_1plus_doses_per_100K,\n",
    "                                          state_info.people_with_2_doses, state_info.people_with_2_doses_per_100K, state_info.percent_vaccinated)"
   ]
  },
  {
   "cell_type": "code",
   "execution_count": 10,
   "metadata": {},
   "outputs": [],
   "source": [
    "state_info = []\n",
    "\n",
    "for row in stateInfo_result:\n",
    "    \n",
    "    state_dict = {}\n",
    "    state_dict[\"state\"] = row[0]\n",
    "    state_dict[\"population\"] = row[1]\n",
    "    state_dict[\"total_distributed\"] = row[2]\n",
    "    state_dict[\"total_administered\"] = row[3]\n",
    "    state_dict[\"distributed_per_100K\"] = row[4]\n",
    "    state_dict[\"administered_per_100K\"] = row[5]\n",
    "    state_dict[\"people_with_1plus_doses\"] = row[6]\n",
    "    state_dict[\"people_with_1plus_doses_per_100K\"] = row[7]\n",
    "    state_dict[\"people_with_2_doses\"] = row[8]\n",
    "    state_dict[\"people_with_2_doses_per_100K\"] = row[9]\n",
    "    state_dict[\"%_vaccinated\"] = row[10]\n",
    "    state_info.append(state_dict)"
   ]
  },
  {
   "cell_type": "code",
   "execution_count": 11,
   "metadata": {},
   "outputs": [
    {
     "name": "stdout",
     "output_type": "stream",
     "text": [
      "[{'state': 'Alabama', 'population': 4903185, 'total_distributed': 493125, 'total_administered': 165919, 'distributed_per_100K': 10057, 'administered_per_100K': 3384, 'people_with_1plus_doses': 144429, 'people_with_1plus_doses_per_100K': 2946, 'people_with_2_doses': 21345, 'people_with_2_doses_per_100K': 435, '%_vaccinated': 3.38}, {'state': 'Alaska', 'population': 731545, 'total_distributed': 154325, 'total_administered': 71907, 'distributed_per_100K': 21096, 'administered_per_100K': 9829, 'people_with_1plus_doses': 59449, 'people_with_1plus_doses_per_100K': 8126, 'people_with_2_doses': 12352, 'people_with_2_doses_per_100K': 1688, '%_vaccinated': 9.83}, {'state': 'Arizona', 'population': 7278717, 'total_distributed': 797550, 'total_administered': 303899, 'distributed_per_100K': 10957, 'administered_per_100K': 4175, 'people_with_1plus_doses': 262120, 'people_with_1plus_doses_per_100K': 3601, 'people_with_2_doses': 41613, 'people_with_2_doses_per_100K': 572, '%_vaccinated': 4.18}, {'state': 'Arkansas', 'population': 3017804, 'total_distributed': 361550, 'total_administered': 173312, 'distributed_per_100K': 11981, 'administered_per_100K': 5743, 'people_with_1plus_doses': 144792, 'people_with_1plus_doses_per_100K': 4798, 'people_with_2_doses': 26541, 'people_with_2_doses_per_100K': 879, '%_vaccinated': 5.74}, {'state': 'California', 'population': 39512223, 'total_distributed': 4379500, 'total_administered': 1633875, 'distributed_per_100K': 11084, 'administered_per_100K': 4135, 'people_with_1plus_doses': 1335886, 'people_with_1plus_doses_per_100K': 3381, 'people_with_2_doses': 293834, 'people_with_2_doses_per_100K': 744, '%_vaccinated': 4.14}, {'state': 'Colorado', 'population': 5758736, 'total_distributed': 657250, 'total_administered': 353194, 'distributed_per_100K': 11413, 'administered_per_100K': 6133, 'people_with_1plus_doses': 296816, 'people_with_1plus_doses_per_100K': 5154, 'people_with_2_doses': 54474, 'people_with_2_doses_per_100K': 946, '%_vaccinated': 6.13}, {'state': 'Connecticut', 'population': 3565287, 'total_distributed': 435075, 'total_administered': 264707, 'distributed_per_100K': 12203, 'administered_per_100K': 7425, 'people_with_1plus_doses': 230913, 'people_with_1plus_doses_per_100K': 6477, 'people_with_2_doses': 28602, 'people_with_2_doses_per_100K': 802, '%_vaccinated': 7.42}, {'state': 'Delaware', 'population': 973764, 'total_distributed': 106600, 'total_administered': 49369, 'distributed_per_100K': 10947, 'administered_per_100K': 5070, 'people_with_1plus_doses': 41900, 'people_with_1plus_doses_per_100K': 4303, 'people_with_2_doses': 7355, 'people_with_2_doses_per_100K': 755, '%_vaccinated': 5.07}, {'state': 'District of Columbia', 'population': 705749, 'total_distributed': 75175, 'total_administered': 55108, 'distributed_per_100K': 10652, 'administered_per_100K': 7808, 'people_with_1plus_doses': 43377, 'people_with_1plus_doses_per_100K': 6146, 'people_with_2_doses': 11685, 'people_with_2_doses_per_100K': 1656, '%_vaccinated': 7.81}, {'state': 'Florida', 'population': 21477737, 'total_distributed': 2546050, 'total_administered': 1239975, 'distributed_per_100K': 11854, 'administered_per_100K': 5773, 'people_with_1plus_doses': 1125338, 'people_with_1plus_doses_per_100K': 5240, 'people_with_2_doses': 111763, 'people_with_2_doses_per_100K': 520, '%_vaccinated': 5.77}, {'state': 'Georgia', 'population': 10617423, 'total_distributed': 1162275, 'total_administered': 453862, 'distributed_per_100K': 10947, 'administered_per_100K': 4275, 'people_with_1plus_doses': 407000, 'people_with_1plus_doses_per_100K': 3833, 'people_with_2_doses': 39972, 'people_with_2_doses_per_100K': 376, '%_vaccinated': 4.27}, {'state': 'Hawaii', 'population': 1415872, 'total_distributed': 189675, 'total_administered': 79414, 'distributed_per_100K': 13396, 'administered_per_100K': 5609, 'people_with_1plus_doses': 63282, 'people_with_1plus_doses_per_100K': 4469, 'people_with_2_doses': 16132, 'people_with_2_doses_per_100K': 1139, '%_vaccinated': 5.61}, {'state': 'Idaho', 'population': 1787065, 'total_distributed': 178175, 'total_administered': 73372, 'distributed_per_100K': 9970, 'administered_per_100K': 4106, 'people_with_1plus_doses': 61118, 'people_with_1plus_doses_per_100K': 3420, 'people_with_2_doses': 11760, 'people_with_2_doses_per_100K': 658, '%_vaccinated': 4.11}, {'state': 'Illinois', 'population': 12671821, 'total_distributed': 1173325, 'total_administered': 570527, 'distributed_per_100K': 9259, 'administered_per_100K': 4502, 'people_with_1plus_doses': 452010, 'people_with_1plus_doses_per_100K': 3567, 'people_with_2_doses': 111933, 'people_with_2_doses_per_100K': 883, '%_vaccinated': 4.5}, {'state': 'Indiana', 'population': 6732219, 'total_distributed': 816025, 'total_administered': 387137, 'distributed_per_100K': 12121, 'administered_per_100K': 5751, 'people_with_1plus_doses': 320266, 'people_with_1plus_doses_per_100K': 4757, 'people_with_2_doses': 66801, 'people_with_2_doses_per_100K': 992, '%_vaccinated': 5.75}, {'state': 'Iowa', 'population': 3155070, 'total_distributed': 328600, 'total_administered': 158743, 'distributed_per_100K': 10415, 'administered_per_100K': 5031, 'people_with_1plus_doses': 139500, 'people_with_1plus_doses_per_100K': 4421, 'people_with_2_doses': 16860, 'people_with_2_doses_per_100K': 534, '%_vaccinated': 5.03}, {'state': 'Kansas', 'population': 2913314, 'total_distributed': 312000, 'total_administered': 130434, 'distributed_per_100K': 10709, 'administered_per_100K': 4477, 'people_with_1plus_doses': 111907, 'people_with_1plus_doses_per_100K': 3841, 'people_with_2_doses': 17430, 'people_with_2_doses_per_100K': 598, '%_vaccinated': 4.48}, {'state': 'Kentucky', 'population': 4467673, 'total_distributed': 450175, 'total_administered': 235143, 'distributed_per_100K': 10076, 'administered_per_100K': 5263, 'people_with_1plus_doses': 217837, 'people_with_1plus_doses_per_100K': 4876, 'people_with_2_doses': 15699, 'people_with_2_doses_per_100K': 351, '%_vaccinated': 5.26}, {'state': 'Louisiana', 'population': 4648794, 'total_distributed': 492800, 'total_administered': 279398, 'distributed_per_100K': 10601, 'administered_per_100K': 6010, 'people_with_1plus_doses': 240762, 'people_with_1plus_doses_per_100K': 5179, 'people_with_2_doses': 38095, 'people_with_2_doses_per_100K': 819, '%_vaccinated': 6.01}, {'state': 'Maine', 'population': 1344212, 'total_distributed': 165175, 'total_administered': 80502, 'distributed_per_100K': 12288, 'administered_per_100K': 5989, 'people_with_1plus_doses': 67133, 'people_with_1plus_doses_per_100K': 4994, 'people_with_2_doses': 12071, 'people_with_2_doses_per_100K': 898, '%_vaccinated': 5.99}, {'state': 'Maryland', 'population': 6045680, 'total_distributed': 685325, 'total_administered': 271905, 'distributed_per_100K': 11336, 'administered_per_100K': 4498, 'people_with_1plus_doses': 243450, 'people_with_1plus_doses_per_100K': 4027, 'people_with_2_doses': 28106, 'people_with_2_doses_per_100K': 465, '%_vaccinated': 4.5}, {'state': 'Massachusetts', 'population': 6892503, 'total_distributed': 776400, 'total_administered': 353117, 'distributed_per_100K': 11264, 'administered_per_100K': 5123, 'people_with_1plus_doses': 306646, 'people_with_1plus_doses_per_100K': 4449, 'people_with_2_doses': 46247, 'people_with_2_doses_per_100K': 671, '%_vaccinated': 5.12}, {'state': 'Michigan', 'population': 9986857, 'total_distributed': 1059275, 'total_administered': 548844, 'distributed_per_100K': 10607, 'administered_per_100K': 5496, 'people_with_1plus_doses': 463917, 'people_with_1plus_doses_per_100K': 4645, 'people_with_2_doses': 81014, 'people_with_2_doses_per_100K': 811, '%_vaccinated': 5.5}, {'state': 'Minnesota', 'population': 5639632, 'total_distributed': 652350, 'total_administered': 259417, 'distributed_per_100K': 11567, 'administered_per_100K': 4600, 'people_with_1plus_doses': 213102, 'people_with_1plus_doses_per_100K': 3779, 'people_with_2_doses': 46008, 'people_with_2_doses_per_100K': 816, '%_vaccinated': 4.6}, {'state': 'Mississippi', 'population': 2976149, 'total_distributed': 334800, 'total_administered': 136691, 'distributed_per_100K': 11249, 'administered_per_100K': 4593, 'people_with_1plus_doses': 124931, 'people_with_1plus_doses_per_100K': 4198, 'people_with_2_doses': 11567, 'people_with_2_doses_per_100K': 389, '%_vaccinated': 4.59}, {'state': 'Missouri', 'population': 6137428, 'total_distributed': 621200, 'total_administered': 265382, 'distributed_per_100K': 10122, 'administered_per_100K': 4324, 'people_with_1plus_doses': 205217, 'people_with_1plus_doses_per_100K': 3344, 'people_with_2_doses': 58782, 'people_with_2_doses_per_100K': 958, '%_vaccinated': 4.32}, {'state': 'Montana', 'population': 1068778, 'total_distributed': 112125, 'total_administered': 60389, 'distributed_per_100K': 10491, 'administered_per_100K': 5650, 'people_with_1plus_doses': 50413, 'people_with_1plus_doses_per_100K': 4717, 'people_with_2_doses': 9962, 'people_with_2_doses_per_100K': 932, '%_vaccinated': 5.65}, {'state': 'Nebraska', 'population': 1934408, 'total_distributed': 238000, 'total_administered': 111841, 'distributed_per_100K': 12304, 'administered_per_100K': 5782, 'people_with_1plus_doses': 94850, 'people_with_1plus_doses_per_100K': 4903, 'people_with_2_doses': 16206, 'people_with_2_doses_per_100K': 838, '%_vaccinated': 5.78}, {'state': 'Nevada', 'population': 3080156, 'total_distributed': 278175, 'total_administered': 115991, 'distributed_per_100K': 9031, 'administered_per_100K': 3766, 'people_with_1plus_doses': 95837, 'people_with_1plus_doses_per_100K': 3111, 'people_with_2_doses': 19296, 'people_with_2_doses_per_100K': 626, '%_vaccinated': 3.77}, {'state': 'New Hampshire', 'population': 1359711, 'total_distributed': 155150, 'total_administered': 80639, 'distributed_per_100K': 11411, 'administered_per_100K': 5931, 'people_with_1plus_doses': 70281, 'people_with_1plus_doses_per_100K': 5169, 'people_with_2_doses': 10319, 'people_with_2_doses_per_100K': 759, '%_vaccinated': 5.93}, {'state': 'New Jersey', 'population': 8882190, 'total_distributed': 923300, 'total_administered': 432220, 'distributed_per_100K': 10395, 'administered_per_100K': 4866, 'people_with_1plus_doses': 381159, 'people_with_1plus_doses_per_100K': 4291, 'people_with_2_doses': 49420, 'people_with_2_doses_per_100K': 556, '%_vaccinated': 4.87}, {'state': 'New Mexico', 'population': 2096829, 'total_distributed': 237725, 'total_administered': 152465, 'distributed_per_100K': 11337, 'administered_per_100K': 7271, 'people_with_1plus_doses': 122956, 'people_with_1plus_doses_per_100K': 5864, 'people_with_2_doses': 27014, 'people_with_2_doses_per_100K': 1288, '%_vaccinated': 7.27}, {'state': 'New York', 'population': 19453561, 'total_distributed': 2213975, 'total_administered': 1116441, 'distributed_per_100K': 11381, 'administered_per_100K': 5739, 'people_with_1plus_doses': 982183, 'people_with_1plus_doses_per_100K': 5049, 'people_with_2_doses': 120801, 'people_with_2_doses_per_100K': 621, '%_vaccinated': 5.74}, {'state': 'North Carolina', 'population': 10488084, 'total_distributed': 1157100, 'total_administered': 473282, 'distributed_per_100K': 11033, 'administered_per_100K': 4513, 'people_with_1plus_doses': 406257, 'people_with_1plus_doses_per_100K': 3874, 'people_with_2_doses': 66736, 'people_with_2_doses_per_100K': 636, '%_vaccinated': 4.51}, {'state': 'North Dakota', 'population': 762062, 'total_distributed': 82850, 'total_administered': 59245, 'distributed_per_100K': 10872, 'administered_per_100K': 7774, 'people_with_1plus_doses': 48986, 'people_with_1plus_doses_per_100K': 6428, 'people_with_2_doses': 9881, 'people_with_2_doses_per_100K': 1297, '%_vaccinated': 7.77}, {'state': 'Ohio', 'population': 11689100, 'total_distributed': 1122300, 'total_administered': 487481, 'distributed_per_100K': 9601, 'administered_per_100K': 4170, 'people_with_1plus_doses': 456424, 'people_with_1plus_doses_per_100K': 3905, 'people_with_2_doses': 30910, 'people_with_2_doses_per_100K': 264, '%_vaccinated': 4.17}, {'state': 'Oklahoma', 'population': 3956971, 'total_distributed': 490500, 'total_administered': 267434, 'distributed_per_100K': 12396, 'administered_per_100K': 6759, 'people_with_1plus_doses': 230902, 'people_with_1plus_doses_per_100K': 5835, 'people_with_2_doses': 34706, 'people_with_2_doses_per_100K': 877, '%_vaccinated': 6.76}, {'state': 'Oregon', 'population': 4217737, 'total_distributed': 479325, 'total_administered': 216928, 'distributed_per_100K': 11365, 'administered_per_100K': 5143, 'people_with_1plus_doses': 192550, 'people_with_1plus_doses_per_100K': 4565, 'people_with_2_doses': 23866, 'people_with_2_doses_per_100K': 566, '%_vaccinated': 5.14}, {'state': 'Pennsylvania', 'population': 12801989, 'total_distributed': 1344375, 'total_administered': 605428, 'distributed_per_100K': 10501, 'administered_per_100K': 4729, 'people_with_1plus_doses': 508391, 'people_with_1plus_doses_per_100K': 3971, 'people_with_2_doses': 96395, 'people_with_2_doses_per_100K': 753, '%_vaccinated': 4.73}, {'state': 'Rhode Island', 'population': 1059361, 'total_distributed': 127450, 'total_administered': 59014, 'distributed_per_100K': 12031, 'administered_per_100K': 5571, 'people_with_1plus_doses': 47859, 'people_with_1plus_doses_per_100K': 4518, 'people_with_2_doses': 11136, 'people_with_2_doses_per_100K': 1051, '%_vaccinated': 5.57}, {'state': 'South Carolina', 'population': 5148714, 'total_distributed': 443375, 'total_administered': 209631, 'distributed_per_100K': 8611, 'administered_per_100K': 4072, 'people_with_1plus_doses': 173906, 'people_with_1plus_doses_per_100K': 3378, 'people_with_2_doses': 34277, 'people_with_2_doses_per_100K': 666, '%_vaccinated': 4.07}, {'state': 'South Dakota', 'population': 884659, 'total_distributed': 99300, 'total_administered': 65377, 'distributed_per_100K': 11225, 'administered_per_100K': 7390, 'people_with_1plus_doses': 54531, 'people_with_1plus_doses_per_100K': 6164, 'people_with_2_doses': 10796, 'people_with_2_doses_per_100K': 1220, '%_vaccinated': 7.39}, {'state': 'Tennessee', 'population': 6829174, 'total_distributed': 723825, 'total_administered': 375669, 'distributed_per_100K': 10599, 'administered_per_100K': 5501, 'people_with_1plus_doses': 313154, 'people_with_1plus_doses_per_100K': 4586, 'people_with_2_doses': 61743, 'people_with_2_doses_per_100K': 904, '%_vaccinated': 5.5}, {'state': 'Texas', 'population': 28995881, 'total_distributed': 2754800, 'total_administered': 1544551, 'distributed_per_100K': 9501, 'administered_per_100K': 5327, 'people_with_1plus_doses': 1337706, 'people_with_1plus_doses_per_100K': 4613, 'people_with_2_doses': 205538, 'people_with_2_doses_per_100K': 709, '%_vaccinated': 5.33}, {'state': 'Utah', 'population': 3205958, 'total_distributed': 337825, 'total_administered': 189578, 'distributed_per_100K': 10537, 'administered_per_100K': 5913, 'people_with_1plus_doses': 166334, 'people_with_1plus_doses_per_100K': 5188, 'people_with_2_doses': 17275, 'people_with_2_doses_per_100K': 539, '%_vaccinated': 5.91}, {'state': 'Vermont', 'population': 623989, 'total_distributed': 78875, 'total_administered': 42835, 'distributed_per_100K': 12640, 'administered_per_100K': 6865, 'people_with_1plus_doses': 36233, 'people_with_1plus_doses_per_100K': 5807, 'people_with_2_doses': 6545, 'people_with_2_doses_per_100K': 1049, '%_vaccinated': 6.86}, {'state': 'Virginia', 'population': 8535519, 'total_distributed': 992375, 'total_administered': 362092, 'distributed_per_100K': 11626, 'administered_per_100K': 4242, 'people_with_1plus_doses': 320175, 'people_with_1plus_doses_per_100K': 3751, 'people_with_2_doses': 40340, 'people_with_2_doses_per_100K': 473, '%_vaccinated': 4.24}, {'state': 'Washington', 'population': 7614893, 'total_distributed': 820875, 'total_administered': 373423, 'distributed_per_100K': 10780, 'administered_per_100K': 4904, 'people_with_1plus_doses': 306942, 'people_with_1plus_doses_per_100K': 4031, 'people_with_2_doses': 55902, 'people_with_2_doses_per_100K': 734, '%_vaccinated': 4.9}, {'state': 'West Virginia', 'population': 1792147, 'total_distributed': 231800, 'total_administered': 167548, 'distributed_per_100K': 12934, 'administered_per_100K': 9349, 'people_with_1plus_doses': 135950, 'people_with_1plus_doses_per_100K': 7586, 'people_with_2_doses': 31587, 'people_with_2_doses_per_100K': 1763, '%_vaccinated': 9.35}, {'state': 'Wisconsin', 'population': 5822434, 'total_distributed': 577325, 'total_administered': 238758, 'distributed_per_100K': 9916, 'administered_per_100K': 4101, 'people_with_1plus_doses': 204746, 'people_with_1plus_doses_per_100K': 3517, 'people_with_2_doses': 32268, 'people_with_2_doses_per_100K': 554, '%_vaccinated': 4.1}, {'state': 'Wyoming', 'population': 578759, 'total_distributed': 67450, 'total_administered': 29309, 'distributed_per_100K': 11654, 'administered_per_100K': 5064, 'people_with_1plus_doses': 25841, 'people_with_1plus_doses_per_100K': 4465, 'people_with_2_doses': 3441, 'people_with_2_doses_per_100K': 595, '%_vaccinated': 5.06}]\n"
     ]
    }
   ],
   "source": [
    "print(state_info)"
   ]
  },
  {
   "cell_type": "code",
   "execution_count": null,
   "metadata": {},
   "outputs": [],
   "source": []
  },
  {
   "cell_type": "code",
   "execution_count": null,
   "metadata": {},
   "outputs": [],
   "source": []
  },
  {
   "cell_type": "code",
   "execution_count": null,
   "metadata": {},
   "outputs": [],
   "source": []
  },
  {
   "cell_type": "code",
   "execution_count": null,
   "metadata": {},
   "outputs": [],
   "source": []
  },
  {
   "cell_type": "code",
   "execution_count": null,
   "metadata": {},
   "outputs": [],
   "source": []
  }
 ],
 "metadata": {
  "kernelspec": {
   "display_name": "Python 3",
   "language": "python",
   "name": "python3"
  },
  "language_info": {
   "codemirror_mode": {
    "name": "ipython",
    "version": 3
   },
   "file_extension": ".py",
   "mimetype": "text/x-python",
   "name": "python",
   "nbconvert_exporter": "python",
   "pygments_lexer": "ipython3",
   "version": "3.7.8"
  }
 },
 "nbformat": 4,
 "nbformat_minor": 4
}
